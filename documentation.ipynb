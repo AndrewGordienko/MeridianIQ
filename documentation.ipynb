{
 "cells": [
  {
   "cell_type": "markdown",
   "id": "c4c5da24",
   "metadata": {},
   "source": [
    "# MeridianIQ\n",
    "\n",
    "This notebook demonstrates how to use the `AddressLookup` class to retrieve city, state/province, latitude, and longitude based on address strings. It showcases both local and remote usage of models for address parsing.\n"
   ]
  },
  {
   "cell_type": "markdown",
   "id": "install_section",
   "metadata": {},
   "source": [
    "### Installing Dependencies and Setting Up\n",
    "Before we get started, you'll need to install the necessary dependencies for the `MeridianIQ` library.\n",
    "\n",
    "#### 1. Install the required Python packages:\n",
    "You can install the required packages via `pip` by running the following command:\n",
    "\n",
    "```bash\n",
    "pip install pandas numpy langchain_ollama langchain_openai unidecode pyspellchecker thefuzz unicodedata llama-cleanup\n",
    "```\n",
    "\n",
    "#### 2. Install and Download Ollama:\n",
    "To use the models, you need to download [Ollama](https://ollama.com/download). Follow the instructions on the website to install it on your system.\n",
    "\n",
    "After installing Ollama, you can download the required models using these commands:\n",
    "- For the 3.2 1B model: `ollama run llama3.2:1b`\n",
    "- For the 3.1 8B model: `ollama run llama3.1`\n",
    "\n",
    "Once these steps are done, you're ready to use the `AddressLookup` class."
   ]
  },
  {
   "cell_type": "markdown",
   "id": "8368d003",
   "metadata": {},
   "source": [
    "### 1. Initializing the AddressLookup with LLaMA Model\n",
    "\n",
    "We'll initialize the `AddressLookup` class using the 8B LLaMA model (`llama3.1`) and provide paths to Canadian postal codes and US ZIP codes. The lookup will then process an example address with a typo to demonstrate error handling.\n"
   ]
  },
  {
   "cell_type": "code",
   "execution_count": null,
   "id": "9448501d",
   "metadata": {},
   "outputs": [],
   "source": [
    "from llama_cleanup import AddressLookup\n",
    "\n",
    "address_lookup = AddressLookup(\n",
    "    canadian_postal_codes_path=\"path/to/CanadianPostalCodes202403.csv\",\n",
    "    us_zip_codes_path=\"path/to/USZIPCodes202409.csv\",\n",
    "    success_output=\"path/to/success.txt\",\n",
    "    failed_path=\"path/to/failed.txt\",\n",
    "    llama_model=\"llama3.1\",\n",
    "    debug=True\n",
    ")\n",
    "\n",
    "# Perform the address lookup with a typo in 'Toronto'\n",
    "result = address_lookup.lookup(\"789 Maple Dr., 2nd floor, Torono, Ontario, M5V3L5\")\n",
    "\n",
    "# Output the result\n",
    "print(result)"
   ]
  },
  {
   "cell_type": "markdown",
   "id": "expected_output1",
   "metadata": {},
   "source": [
    "#### Expected Output\n",
    "{'city': 'Toronto', 'state_full': 'Ontario', 'latitude': 43.688438, 'longitude': -79.307762}"
   ]
  },
  {
   "cell_type": "markdown",
   "id": "adb2ced1",
   "metadata": {},
   "source": [
    "### 2. Changing Model Version\n",
    "\n",
    "You can change the model to a different version, such as the LLaMA 3.2 model (version 1B). However, note that higher model versions like `llama3.2` with fewer parameters may be less accurate but might run faster.\n"
   ]
  },
  {
   "cell_type": "code",
   "execution_count": null,
   "id": "424c9649",
   "metadata": {},
   "outputs": [],
   "source": [
    "# Using LLaMA 3.2 model (less accurate in some cases)\n",
    "address_lookup = AddressLookup(\n",
    "    canadian_postal_codes_path=\"path/to/CanadianPostalCodes202403.csv\",\n",
    "    us_zip_codes_path=\"path/to/USZIPCodes202409.csv\",\n",
    "    success_output=\"path/to/success.txt\",\n",
    "    failed_path=\"path/to/failed.txt\",\n",
    "    llama_model=\"llama3.2:1b\",  # Specify the 3.2 version here\n",
    "    debug=True\n",
    ")\n",
    "\n",
    "# Perform the address lookup\n",
    "result = address_lookup.lookup(\"789 Maple Dr., 2nd floor, Torono, Ontario, M5V3L5\")\n",
    "print(result)"
   ]
  },
  {
   "cell_type": "markdown",
   "id": "expected_output2",
   "metadata": {},
   "source": [
    "#### Expected Output\n",
    "{'city': 'Toronto', 'state_full': 'Ontario', 'latitude': 43.688438, 'longitude': -79.307762}"
   ]
  },
  {
   "cell_type": "markdown",
   "id": "understanding_paths",
   "metadata": {},
   "source": [
    "### 3. Understanding the Paths and Parameters\n",
    "\n",
    "The `AddressLookup` class requires the paths to two files:\n",
    "- **Canadian Postal Codes CSV**: This CSV should contain city, province abbreviation, and postal code data for Canadian addresses.\n",
    "- **US ZIP Codes CSV**: This CSV should contain city, state abbreviation, and ZIP code data for US addresses.\n",
    "\n",
    "Both of these CSVs are passed as arguments during initialization, allowing the class to perform lookups for either Canadian or US addresses.\n",
    "\n",
    "Parameters passed to the `lookup` method:\n",
    "- **address (str)**: The full address string, including street, city, state/province, and postal code.\n",
    "\n",
    "The `lookup` method processes the string, identifies the city and province/state, and returns a dictionary containing the city, full state name, latitude, and longitude.\n"
   ]
  },
  {
   "cell_type": "markdown",
   "id": "remote_models",
   "metadata": {},
   "source": [
    "### 4. Using Remote Models\n",
    "\n",
    "The `AddressLookup` class can also be used with remote models, for example, when using a model hosted on a remote server like `gemma:2b`. \n",
    "\n",
    "Here’s an example of how to use a remote model for address lookup:\n"
   ]
  },
  {
   "cell_type": "code",
   "execution_count": null,
   "id": "6a288cf5",
   "metadata": {},
   "outputs": [],
   "source": [
    "# Example of using a remote model\n",
    "address_lookup = AddressLookup(\n",
    "    canadian_postal_codes_path=\"path/to/CanadianPostalCodes202403.csv\",\n",
    "    us_zip_codes_path=\"path/to/USZIPCodes202409.csv\",\n",
    "    llama_model=\"gemma:2b\",  # The model on the remote server\n",
    "    remote=True,  # Enable remote\n",
    "    remote_api_base=\"https://api.remotemodel.com\",  # Remote API base URL\n",
    "    remote_api_key=\"your_api_key_here\"  # Optional API key for authentication\n",
    ")\n",
    "\n",
    "# Perform the address lookup\n",
    "result = address_lookup.lookup(\"789 Maple Dr., 2nd floor, Toronto, ON, M5V3L5\")\n",
    "print(result)"
   ]
  },
  {
   "cell_type": "markdown",
   "id": "expected_output3",
   "metadata": {},
   "source": [
    "#### Expected Output\n",
    "{'city': 'Toronto', 'state_full': 'Ontario', 'latitude': 43.688438, 'longitude': -79.307762}"
   ]
  },
  {
   "cell_type": "markdown",
   "id": "download_files",
   "metadata": {},
   "source": [
    "### 5. How to Download Required Files\n",
    "\n",
    "- **Canadian Postal Codes CSV**: You can typically find these on official government postal services websites or other open-data portals.\n",
    "- **US ZIP Codes CSV**: Available on various open-data portals or you can generate them using postal code APIs.\n",
    "\n",
    "Make sure the file structure is correct with columns for `CITY`, `PROVINCE_ABBR`, `LATITUDE`, `LONGITUDE` (Canada) and `CITY`, `STATE`, `ZIPCODE`, `LATITUDE`, `LONGITUDE` (US).\n"
   ]
  },
  {
   "cell_type": "markdown",
   "id": "summary",
   "metadata": {},
   "source": [
    "### Summary\n",
    "\n",
    "This notebook covers:\n",
    "1. Initializing `AddressLookup` with a local model.\n",
    "2. Changing between LLaMA model versions.\n",
    "3. Understanding paths and parameters for address lookups.\n",
    "4. Using the class with remote models and APIs.\n",
    "5. Sources to download postal and ZIP code files.\n",
    "\n",
    "You can now implement this in your address-based applications!\n"
   ]
  }
 ],
 "metadata": {
  "kernelspec": {
   "display_name": "Python 3",
   "language": "python",
   "name": "python3"
  },
  "language_info": {
   "codemirror_mode": {
    "name": "ipython",
    "version": 3
   },
   "file_extension": ".py",
   "mimetype": "text/x-python",
   "name": "python",
   "nbconvert_exporter": "python",
   "pygments_lexer": "ipython3",
   "version": "3.8"
  }
 },
 "nbformat": 4,
 "nbformat_minor": 5
}
